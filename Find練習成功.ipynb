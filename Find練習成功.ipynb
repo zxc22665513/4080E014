{
  "nbformat": 4,
  "nbformat_minor": 0,
  "metadata": {
    "colab": {
      "name": "Untitled27.ipynb",
      "provenance": [],
      "include_colab_link": true
    },
    "kernelspec": {
      "name": "python3",
      "display_name": "Python 3"
    }
  },
  "cells": [
    {
      "cell_type": "markdown",
      "metadata": {
        "id": "view-in-github",
        "colab_type": "text"
      },
      "source": [
        "<a href=\"https://colab.research.google.com/github/ChengHan16/Cs4high_4080E036/blob/master/Find%E7%B7%B4%E7%BF%92%E6%88%90%E5%8A%9F.ipynb\" target=\"_parent\"><img src=\"https://colab.research.google.com/assets/colab-badge.svg\" alt=\"Open In Colab\"/></a>"
      ]
    },
    {
      "cell_type": "code",
      "metadata": {
        "id": "SFpD0Jt7k-m2",
        "colab_type": "code",
        "outputId": "cf171828-2d8d-497d-8ba0-76c0c5bea814",
        "colab": {
          "base_uri": "https://localhost:8080/",
          "height": 87
        }
      },
      "source": [
        "s = input('請輸入字串')\n",
        "\n",
        "p = s.find(',')\n",
        "\n",
        "num1 = s[0:p]\n",
        "\n",
        "num2 = s[p+1:len(s)]\n",
        "\n",
        "print(num1)\n",
        "print(num2)\n",
        "sum = int(num1)+int(num2)\n",
        "print (sum)\n"
      ],
      "execution_count": 18,
      "outputs": [
        {
          "output_type": "stream",
          "text": [
            "請輸入字串200,300\n",
            "200\n",
            "300\n",
            "500\n"
          ],
          "name": "stdout"
        }
      ]
    }
  ]
}
