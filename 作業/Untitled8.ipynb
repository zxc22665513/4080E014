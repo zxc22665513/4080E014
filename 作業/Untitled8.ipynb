{
  "nbformat": 4,
  "nbformat_minor": 0,
  "metadata": {
    "colab": {
      "name": "Untitled8.ipynb",
      "provenance": []
    },
    "kernelspec": {
      "name": "python3",
      "display_name": "Python 3"
    }
  },
  "cells": [
    {
      "cell_type": "code",
      "metadata": {
        "id": "z0EWMFMhZG65",
        "colab_type": "code",
        "colab": {
          "base_uri": "https://localhost:8080/",
          "height": 51
        },
        "outputId": "b43ee9fa-a604-4c71-90da-6a0103c9b733"
      },
      "source": [
        "names =['christopher','Susan']\n",
        "index = 0\n",
        "while index < len(names):\n",
        "  print(names[index])\n",
        "  index=index+1"
      ],
      "execution_count": 1,
      "outputs": [
        {
          "output_type": "stream",
          "text": [
            "christopher\n",
            "Susan\n"
          ],
          "name": "stdout"
        }
      ]
    }
  ]
}