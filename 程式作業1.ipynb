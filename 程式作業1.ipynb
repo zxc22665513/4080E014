{
  "nbformat": 4,
  "nbformat_minor": 0,
  "metadata": {
    "colab": {
      "name": "程式作業1.ipynb",
      "provenance": [],
      "collapsed_sections": [],
      "include_colab_link": true
    },
    "kernelspec": {
      "name": "python3",
      "display_name": "Python 3"
    }
  },
  "cells": [
    {
      "cell_type": "markdown",
      "metadata": {
        "id": "view-in-github",
        "colab_type": "text"
      },
      "source": [
        "<a href=\"https://colab.research.google.com/github/ChengHan16/Cs4high_4080E036/blob/master/%E7%A8%8B%E5%BC%8F%E4%BD%9C%E6%A5%AD1.ipynb\" target=\"_parent\"><img src=\"https://colab.research.google.com/assets/colab-badge.svg\" alt=\"Open In Colab\"/></a>"
      ]
    },
    {
      "cell_type": "markdown",
      "metadata": {
        "id": "MCZY2TwcnReY",
        "colab_type": "text"
      },
      "source": [
        "時間練習題"
      ]
    },
    {
      "cell_type": "code",
      "metadata": {
        "id": "ulKQoudokxpb",
        "colab_type": "code",
        "colab": {
          "base_uri": "https://localhost:8080/",
          "height": 34
        },
        "outputId": "5d12ff4e-7d11-499f-fd24-db8e31837729"
      },
      "source": [
        "import time\n",
        "\n",
        "date = time.localtime()\n",
        "year = date[0]\n",
        "month = date[1]\n",
        "day = date[2]\n",
        "\n",
        "day_month=[31,28,31,30,31,30,31,31,30,31,30,31]\n",
        "\n",
        "if year%400==0 or (year%4==0 and year%100!=0):\n",
        "    day_month[1]=29\n",
        "    \n",
        "if month==1:\n",
        "  print(day)\n",
        "else:\n",
        "  print(sum(day_month[:month-1])+day)\n",
        "  "
      ],
      "execution_count": 8,
      "outputs": [
        {
          "output_type": "stream",
          "text": [
            "265\n"
          ],
          "name": "stdout"
        }
      ]
    },
    {
      "cell_type": "markdown",
      "metadata": {
        "id": "VnJFvDlVneeo",
        "colab_type": "text"
      },
      "source": [
        "練習題(價錢)"
      ]
    },
    {
      "cell_type": "code",
      "metadata": {
        "id": "sBwMiUImntFb",
        "colab_type": "code",
        "colab": {
          "base_uri": "https://localhost:8080/",
          "height": 51
        },
        "outputId": "ce3ae9db-ac95-4f47-da16-ae58be78cef5"
      },
      "source": [
        "money=int(input(\"請輸入購物金額\"))\n",
        "\n",
        "if(money>=10000):\n",
        "  \n",
        "  if(money>=100000):\n",
        "    print(money*0.8,end=\"元\\n\")#八折\n",
        "  elif(money>=50000):\n",
        "    print(money*0.85,end=\"元\\n\")#八五折\n",
        "  elif(money>=30000):\n",
        "    print(money*0.9,end=\"元\\n\")#九折\n",
        "  else:\n",
        "    print(money*0.95,end=\"元\\n\")#九五折\n",
        "    \n",
        "else:\n",
        "  print(money,end=\"元\\n\")#未打折\n",
        "  "
      ],
      "execution_count": 17,
      "outputs": [
        {
          "output_type": "stream",
          "text": [
            "請輸入購物金額28000\n",
            "26600.0元\n"
          ],
          "name": "stdout"
        }
      ]
    }
  ]
}
