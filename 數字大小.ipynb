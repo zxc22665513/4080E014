{
  "nbformat": 4,
  "nbformat_minor": 0,
  "metadata": {
    "colab": {
      "name": "數字大小.ipynb",
      "provenance": [],
      "include_colab_link": true
    },
    "kernelspec": {
      "name": "python3",
      "display_name": "Python 3"
    }
  },
  "cells": [
    {
      "cell_type": "markdown",
      "metadata": {
        "id": "view-in-github",
        "colab_type": "text"
      },
      "source": [
        "<a href=\"https://colab.research.google.com/github/ChengHan16/Cs4high_4080E036/blob/master/%E6%95%B8%E5%AD%97%E5%A4%A7%E5%B0%8F.ipynb\" target=\"_parent\"><img src=\"https://colab.research.google.com/assets/colab-badge.svg\" alt=\"Open In Colab\"/></a>"
      ]
    },
    {
      "cell_type": "code",
      "metadata": {
        "id": "DKKfvdlrx5Lc",
        "colab_type": "code",
        "colab": {
          "base_uri": "https://localhost:8080/",
          "height": 156
        },
        "outputId": "36fdedbc-5931-4b58-948b-619485675cce"
      },
      "source": [
        "#定義一個空陣列\n",
        "numbers = []\n",
        "#迴圈遍歷，下面的4是控制迴圈次數\n",
        "for i in range(4):\n",
        "    if i > 0:\n",
        "        x = int(input(f\"請輸入第{i}個整數：\"))\n",
        "        #把使用者輸入的數傳遞到定義的numbers陣列中\n",
        "        numbers.append(x)\n",
        "#輸出未排序之前的數字\n",
        "print(f\"未排序之前是：{numbers}\")\n",
        "#讓數字從小到大排序\n",
        "print(\"由小到大排序完後是：\",sorted(numbers))\n",
        "#讓數字從大到小排序\n",
        "numbers.sort(reverse=True)\n",
        "print(f\"由小到大排序完後是：{numbers}\")\n",
        "#輸出最大值\n",
        "print(f\"最大數是：{max(numbers)}\")\n",
        "#輸出最小值\n",
        "print(f\"最小數是：{min(numbers)}\")"
      ],
      "execution_count": 5,
      "outputs": [
        {
          "output_type": "stream",
          "text": [
            "請輸入第1個整數：11\n",
            "請輸入第2個整數：20\n",
            "請輸入第3個整數：30\n",
            "未排序之前是：[11, 20, 30]\n",
            "由小到大排序完後是： [11, 20, 30]\n",
            "由小到大排序完後是：[30, 20, 11]\n",
            "最大數是：30\n",
            "最小數是：11\n"
          ],
          "name": "stdout"
        }
      ]
    }
  ]
}
