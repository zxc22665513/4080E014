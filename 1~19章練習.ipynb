{
  "nbformat": 4,
  "nbformat_minor": 0,
  "metadata": {
    "colab": {
      "name": "1~19章練習.ipynb",
      "provenance": [],
      "collapsed_sections": [],
      "include_colab_link": true
    },
    "kernelspec": {
      "name": "python3",
      "display_name": "Python 3"
    }
  },
  "cells": [
    {
      "cell_type": "markdown",
      "metadata": {
        "id": "view-in-github",
        "colab_type": "text"
      },
      "source": [
        "<a href=\"https://colab.research.google.com/github/ChengHan16/Cs4high_4080E036/blob/master/1~19%E7%AB%A0Python%E7%B7%B4%E7%BF%92.ipynb\" target=\"_parent\"><img src=\"https://colab.research.google.com/assets/colab-badge.svg\" alt=\"Open In Colab\"/></a>"
      ]
    },
    {
      "cell_type": "code",
      "metadata": {
        "id": "QOQ1TwBCOxcy",
        "colab_type": "code",
        "colab": {
          "base_uri": "https://localhost:8080/",
          "height": 34
        },
        "outputId": "b01830bd-9060-4eab-9a8a-1ad8c1cc6f54"
      },
      "source": [
        "#第2章(2-3)\n",
        "a=3.1\n",
        "b=2.2\n",
        "c=a*b*b\n",
        "print(c)"
      ],
      "execution_count": 2,
      "outputs": [
        {
          "output_type": "stream",
          "text": [
            "15.004000000000003\n"
          ],
          "name": "stdout"
        }
      ]
    },
    {
      "cell_type": "code",
      "metadata": {
        "id": "Fv62rUljRV4O",
        "colab_type": "code",
        "colab": {
          "base_uri": "https://localhost:8080/",
          "height": 34
        },
        "outputId": "7c8da6c4-49a2-4ca1-e2e1-d7c4d763629b"
      },
      "source": [
        "#第2章(2-4)\n",
        "pi=3.1\n",
        "radius=2.2\n",
        "#算出圓面積\n",
        "circle_area = pi * radius *radius\n",
        "#circle_area(圓面積)\n",
        "#radius(半徑)\n",
        "print(circle_area)"
      ],
      "execution_count": 5,
      "outputs": [
        {
          "output_type": "stream",
          "text": [
            "15.004000000000003\n"
          ],
          "name": "stdout"
        }
      ]
    },
    {
      "cell_type": "code",
      "metadata": {
        "id": "NiT-ifyRSEdG",
        "colab_type": "code",
        "colab": {
          "base_uri": "https://localhost:8080/",
          "height": 84
        },
        "outputId": "3f758802-0884-47aa-b911-12cf8f33ddcb"
      },
      "source": [
        "#第三章(3-4)觀念驗證\n",
        "#6<7\n",
        "#print(0)\n",
        "#7*0+4\n",
        "#print(\"hello\")\n",
        "\n",
        "print(6/7)\n",
        "print(0)\n",
        "print(7*0+4)\n",
        "print(\"hello\")"
      ],
      "execution_count": 24,
      "outputs": [
        {
          "output_type": "stream",
          "text": [
            "0.8571428571428571\n",
            "0\n",
            "4\n",
            "hello\n"
          ],
          "name": "stdout"
        }
      ]
    },
    {
      "cell_type": "code",
      "metadata": {
        "id": "QVZTB3kPUYdX",
        "colab_type": "code",
        "colab": {
          "base_uri": "https://localhost:8080/",
          "height": 50
        },
        "outputId": "06ac92f6-0275-4662-c9cb-2cf24d2fd147"
      },
      "source": [
        "#第三章(3-6)\n",
        "3+2\n",
        "4/5\n",
        "print(3+2)\n",
        "print(4/5)"
      ],
      "execution_count": 22,
      "outputs": [
        {
          "output_type": "stream",
          "text": [
            "5\n",
            "0.8\n"
          ],
          "name": "stdout"
        }
      ]
    },
    {
      "cell_type": "code",
      "metadata": {
        "id": "uBzbO4wKVBBm",
        "colab_type": "code",
        "colab": {
          "base_uri": "https://localhost:8080/",
          "height": 67
        },
        "outputId": "f6e3e3f4-15e9-4133-964c-3aeb3ac9c7c2"
      },
      "source": [
        "#第三章(3-7)觀念驗證\n",
        "#print(4-4*4)\n",
        "#print(19)\n",
        "#19-10\n",
        "\n",
        "print(4-4*4)\n",
        "print(19)\n",
        "print(19-10)"
      ],
      "execution_count": 25,
      "outputs": [
        {
          "output_type": "stream",
          "text": [
            "-12\n",
            "19\n",
            "9\n"
          ],
          "name": "stdout"
        }
      ]
    },
    {
      "cell_type": "code",
      "metadata": {
        "id": "4FDhvpcFWnYK",
        "colab_type": "code",
        "colab": {}
      },
      "source": [
        "#第四章(4-7)觀念驗證\n",
        "#可用變數名稱\n",
        "customer_list\n",
        "(X)print\n",
        "rainbow_sparkly_unicorn\n",
        "list_of_things_|_need_to_pick_up_form_the_store\n",
        "(X)range"
      ],
      "execution_count": 0,
      "outputs": []
    },
    {
      "cell_type": "code",
      "metadata": {
        "id": "eme2eSMHbKrO",
        "colab_type": "code",
        "colab": {
          "base_uri": "https://localhost:8080/",
          "height": 34
        },
        "outputId": "7529cf19-04af-421e-991c-5b07f50341e7"
      },
      "source": [
        "#第四章(4-10)\n",
        "c=1\n",
        "id(c)\n",
        "#10914496 識別碼\n",
        "\n",
        "c=2\n",
        "id(c)\n",
        "#10914528 識別碼"
      ],
      "execution_count": 37,
      "outputs": [
        {
          "output_type": "execute_result",
          "data": {
            "text/plain": [
              "10914496"
            ]
          },
          "metadata": {
            "tags": []
          },
          "execution_count": 37
        }
      ]
    },
    {
      "cell_type": "code",
      "metadata": {
        "id": "6S8NdovCdCnQ",
        "colab_type": "code",
        "colab": {
          "base_uri": "https://localhost:8080/",
          "height": 67
        },
        "outputId": "b495cb4b-2bf7-4d60-be34-84316453ad93"
      },
      "source": [
        "#第四章(4-11)觀念驗證\n",
        "apples=5\n",
        "oranges=10\n",
        "fruits = apples+oranges\n",
        "print(fruits)\n",
        "\n",
        "apples=20\n",
        "oranges=10\n",
        "fruits = apples+oranges\n",
        "print(fruits)\n",
        "\n",
        "#(4-12)習題\n",
        "a=2\n",
        "b=2\n",
        "#a+x=b #錯的\n",
        "x=a+b\n",
        "print(x)\n"
      ],
      "execution_count": 43,
      "outputs": [
        {
          "output_type": "stream",
          "text": [
            "15\n",
            "30\n",
            "4\n"
          ],
          "name": "stdout"
        }
      ]
    },
    {
      "cell_type": "code",
      "metadata": {
        "id": "QQkLEwOLnM6v",
        "colab_type": "code",
        "colab": {
          "base_uri": "https://localhost:8080/",
          "height": 67
        },
        "outputId": "9bc03f15-9c13-4a7a-9ac0-6d4bb3897c31"
      },
      "source": [
        "#第五章(5-4)觀念驗證\n",
        "six=2+2+2\n",
        "print(six)\n",
        "\n",
        "neg=six*(-6)\n",
        "print(neg)\n",
        "\n",
        "neg=neg/10\n",
        "print(neg)"
      ],
      "execution_count": 47,
      "outputs": [
        {
          "output_type": "stream",
          "text": [
            "6\n",
            "-36\n",
            "-3.6\n"
          ],
          "name": "stdout"
        }
      ]
    },
    {
      "cell_type": "code",
      "metadata": {
        "id": "SznHmCGcoId8",
        "colab_type": "code",
        "colab": {
          "base_uri": "https://localhost:8080/",
          "height": 34
        },
        "outputId": "2471518d-3a74-46f4-9981-5aaa4817257d"
      },
      "source": [
        "neg=neg/10\n",
        "print(neg)"
      ],
      "execution_count": 48,
      "outputs": [
        {
          "output_type": "stream",
          "text": [
            "-0.36\n"
          ],
          "name": "stdout"
        }
      ]
    },
    {
      "cell_type": "code",
      "metadata": {
        "id": "I4ZzllTNpCel",
        "colab_type": "code",
        "colab": {
          "base_uri": "https://localhost:8080/",
          "height": 50
        },
        "outputId": "db9a25e7-efea-4271-cdbd-03b08f6b612e"
      },
      "source": [
        "#第五章(5-4)觀念驗證\n",
        "half=0.25*2\n",
        "print(half)\n",
        "\n",
        "other_half=1-half\n",
        "print(other_half)"
      ],
      "execution_count": 52,
      "outputs": [
        {
          "output_type": "stream",
          "text": [
            "0.5\n",
            "0.5\n"
          ],
          "name": "stdout"
        }
      ]
    },
    {
      "cell_type": "code",
      "metadata": {
        "id": "WkwK_5j6p82K",
        "colab_type": "code",
        "colab": {
          "base_uri": "https://localhost:8080/",
          "height": 34
        },
        "outputId": "0f617c2f-6057-4093-bb5a-80285ecf44e4"
      },
      "source": [
        "#第五章(5-5)觀念驗證(5.3)\n",
        "cold=True\n",
        "rain=False\n",
        "day=cold and rain\n",
        "print(day)"
      ],
      "execution_count": 59,
      "outputs": [
        {
          "output_type": "stream",
          "text": [
            "False\n"
          ],
          "name": "stdout"
        }
      ]
    },
    {
      "cell_type": "code",
      "metadata": {
        "id": "yZyVDU3wsQi9",
        "colab_type": "code",
        "colab": {
          "base_uri": "https://localhost:8080/",
          "height": 67
        },
        "outputId": "8946a8de-3515-4219-a52a-45d9e4867219"
      },
      "source": [
        "#第五章(5-5)觀念驗證(5.4)\n",
        "one=\"one\"\n",
        "another_one=\"1.0\"\n",
        "last_one=\"one 1\"\n",
        "print(one)\n",
        "print(another_one)\n",
        "print(last_one)"
      ],
      "execution_count": 61,
      "outputs": [
        {
          "output_type": "stream",
          "text": [
            "one\n",
            "1.0\n",
            "one 1\n"
          ],
          "name": "stdout"
        }
      ]
    },
    {
      "cell_type": "code",
      "metadata": {
        "id": "xtxyY5d020fV",
        "colab_type": "code",
        "colab": {
          "base_uri": "https://localhost:8080/",
          "height": 34
        },
        "outputId": "e511bf4e-221e-42c1-e6bd-b34bd2a1b687"
      },
      "source": [
        "#第五章(5-7)類型轉換、取得類型\n",
        "type(2.7)\n",
        "type(27)\n",
        "type(False)\n",
        "type(\"False\")\n",
        "type(\"0.0\")\n",
        "type(-21)\n",
        "type(99999999)\n",
        "type(\"None\")\n",
        "type(None)\n"
      ],
      "execution_count": 92,
      "outputs": [
        {
          "output_type": "execute_result",
          "data": {
            "text/plain": [
              "NoneType"
            ]
          },
          "metadata": {
            "tags": []
          },
          "execution_count": 92
        }
      ]
    },
    {
      "cell_type": "code",
      "metadata": {
        "id": "zaIUtZlj31N3",
        "colab_type": "code",
        "colab": {
          "base_uri": "https://localhost:8080/",
          "height": 101
        },
        "outputId": "7a212e12-be34-494d-c2d0-dd13e8136c58"
      },
      "source": [
        "#第五章(5-8)\n",
        "float(4)\n",
        "print(float(4))\n",
        "int(4)\n",
        "print(int(4))\n",
        "str(3.5)\n",
        "print(str(3.5))\n",
        "int(3.94)\n",
        "print(int(3.94))\n",
        "int(False)"
      ],
      "execution_count": 89,
      "outputs": [
        {
          "output_type": "stream",
          "text": [
            "4.0\n",
            "4\n",
            "3.5\n",
            "3\n"
          ],
          "name": "stdout"
        },
        {
          "output_type": "execute_result",
          "data": {
            "text/plain": [
              "0"
            ]
          },
          "metadata": {
            "tags": []
          },
          "execution_count": 89
        }
      ]
    },
    {
      "cell_type": "code",
      "metadata": {
        "id": "JsHnUUCB6AJi",
        "colab_type": "code",
        "colab": {
          "base_uri": "https://localhost:8080/",
          "height": 101
        },
        "outputId": "1c0f7f03-4c3e-41d0-8639-cb1d8ebd8f28"
      },
      "source": [
        "#第五章(5-8)觀念驗證\n",
        "str(True)\n",
        "print(str(True))\n",
        "float(3)\n",
        "print(float(3))\n",
        "str(3.8)\n",
        "print(str(3.8))\n",
        "int(0.5)\n",
        "print(int(0.5))\n",
        "int(\"4\")\n",
        "print(int(\"4\"))"
      ],
      "execution_count": 94,
      "outputs": [
        {
          "output_type": "stream",
          "text": [
            "True\n",
            "3.0\n",
            "3.8\n",
            "0\n",
            "4\n"
          ],
          "name": "stdout"
        }
      ]
    },
    {
      "cell_type": "code",
      "metadata": {
        "id": "crh6u9Qi6qUT",
        "colab_type": "code",
        "colab": {
          "base_uri": "https://localhost:8080/",
          "height": 34
        },
        "outputId": "dc504f3a-7134-4761-dc39-6f933750837a"
      },
      "source": [
        "str(True)"
      ],
      "execution_count": 93,
      "outputs": [
        {
          "output_type": "execute_result",
          "data": {
            "text/plain": [
              "'True'"
            ]
          },
          "metadata": {
            "tags": []
          },
          "execution_count": 93
        }
      ]
    },
    {
      "cell_type": "code",
      "metadata": {
        "id": "Luqf-cB47n9t",
        "colab_type": "code",
        "colab": {
          "base_uri": "https://localhost:8080/",
          "height": 168
        },
        "outputId": "fe44f7b6-46d9-4845-946b-c5b9b06f8188"
      },
      "source": [
        "#第五章(5-10)觀念驗證\n",
        "print(2.25-1)\n",
        "print(3.0*3)\n",
        "print(2*4)\n",
        "print(round(2.01*100))\n",
        "print(2.0**4)\n",
        "print(2/2.0)\n",
        "print(6/4)\n",
        "print(6%4)\n",
        "print(4%2)"
      ],
      "execution_count": 102,
      "outputs": [
        {
          "output_type": "stream",
          "text": [
            "1.25\n",
            "9.0\n",
            "8\n",
            "201\n",
            "16.0\n",
            "1.0\n",
            "1.5\n",
            "2\n",
            "0\n"
          ],
          "name": "stdout"
        }
      ]
    }
  ]
}
