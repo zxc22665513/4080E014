{
  "nbformat": 4,
  "nbformat_minor": 0,
  "metadata": {
    "colab": {
      "name": "Untitled0.ipynb",
      "provenance": [],
      "include_colab_link": true
    },
    "kernelspec": {
      "name": "python3",
      "display_name": "Python 3"
    }
  },
  "cells": [
    {
      "cell_type": "markdown",
      "metadata": {
        "id": "view-in-github",
        "colab_type": "text"
      },
      "source": [
        "<a href=\"https://colab.research.google.com/github/ChengHan16/Cs4high_4080E036/blob/master/Python%E7%B7%B4%E7%BF%92.ipynb\" target=\"_parent\"><img src=\"https://colab.research.google.com/assets/colab-badge.svg\" alt=\"Open In Colab\"/></a>"
      ]
    },
    {
      "cell_type": "code",
      "metadata": {
        "id": "7x3uup6NAHHS",
        "colab_type": "code",
        "colab": {
          "base_uri": "https://localhost:8080/",
          "height": 35
        },
        "outputId": "73d8e60c-cde6-4074-80b4-dcd27ad84e10"
      },
      "source": [
        "print(\"3*2*(17-2)\")"
      ],
      "execution_count": 2,
      "outputs": [
        {
          "output_type": "stream",
          "text": [
            "3*2*(17-2)\n"
          ],
          "name": "stdout"
        }
      ]
    },
    {
      "cell_type": "code",
      "metadata": {
        "id": "sYeuHtOgVBug",
        "colab_type": "code",
        "colab": {
          "base_uri": "https://localhost:8080/",
          "height": 35
        },
        "outputId": "e4315706-f0ee-4067-c550-8400ab71b75c"
      },
      "source": [
        "print(3*2*(17-2))"
      ],
      "execution_count": 3,
      "outputs": [
        {
          "output_type": "stream",
          "text": [
            "90\n"
          ],
          "name": "stdout"
        }
      ]
    },
    {
      "cell_type": "code",
      "metadata": {
        "id": "g6zHIREiVDup",
        "colab_type": "code",
        "colab": {
          "base_uri": "https://localhost:8080/",
          "height": 35
        },
        "outputId": "71c703d9-b5e8-4d8d-8f5e-fae86ee5f106"
      },
      "source": [
        "print(\"abc\"\"+\"\"def\")"
      ],
      "execution_count": 4,
      "outputs": [
        {
          "output_type": "stream",
          "text": [
            "abc+def\n"
          ],
          "name": "stdout"
        }
      ]
    },
    {
      "cell_type": "code",
      "metadata": {
        "id": "p7-MP0DRVF_A",
        "colab_type": "code",
        "colab": {
          "base_uri": "https://localhost:8080/",
          "height": 35
        },
        "outputId": "b006381b-ba74-4c89-fb15-f502da642a28"
      },
      "source": [
        "print(\"abc\"+\"def\")"
      ],
      "execution_count": 5,
      "outputs": [
        {
          "output_type": "stream",
          "text": [
            "abcdef\n"
          ],
          "name": "stdout"
        }
      ]
    },
    {
      "cell_type": "code",
      "metadata": {
        "id": "0aBgGoY9VLPq",
        "colab_type": "code",
        "colab": {
          "base_uri": "https://localhost:8080/",
          "height": 35
        },
        "outputId": "3f182089-318c-4e15-d2aa-c8870efff861"
      },
      "source": [
        "word = \"arttarataaa\"\n",
        "print(word.replace(\"a\", \"z\"))"
      ],
      "execution_count": 7,
      "outputs": [
        {
          "output_type": "stream",
          "text": [
            "zrttzrztzzz\n"
          ],
          "name": "stdout"
        }
      ]
    },
    {
      "cell_type": "code",
      "metadata": {
        "id": "Fjx2A2vUVqOL",
        "colab_type": "code",
        "colab": {
          "base_uri": "https://localhost:8080/",
          "height": 35
        },
        "outputId": "9c8b6563-57ef-48f8-adfb-ad2b1d8af510"
      },
      "source": [
        "word = \"arttarataaa\"\n",
        "print(word.replace(\"a\", \"z\",3))#replace字串搜尋並取代"
      ],
      "execution_count": 12,
      "outputs": [
        {
          "output_type": "stream",
          "text": [
            "zrttzrztaaa\n"
          ],
          "name": "stdout"
        }
      ]
    },
    {
      "cell_type": "code",
      "metadata": {
        "id": "VLKZFwHFWV0Z",
        "colab_type": "code",
        "colab": {
          "base_uri": "https://localhost:8080/",
          "height": 87
        },
        "outputId": "cb0cfa0a-3f61-42fc-cccf-3e1747fcb879"
      },
      "source": [
        "names = ['龍', '聖']\n",
        "index = 0\n",
        "\n",
        "while index < len(names):\n",
        "    name = names[index]\n",
        "    print(name)\n",
        "    index = index + 1"
      ],
      "execution_count": 14,
      "outputs": [
        {
          "output_type": "stream",
          "text": [
            "龍\n",
            "聖\n",
            "龍\n",
            "聖\n"
          ],
          "name": "stdout"
        }
      ]
    },
    {
      "cell_type": "code",
      "metadata": {
        "id": "VbA2RCstXOLc",
        "colab_type": "code",
        "colab": {}
      },
      "source": [
        "names = ['龍', '聖']\n",
        "index = 0\n",
        "\n",
        "while index > len(names):\n",
        "    name = names[index]\n",
        "    print(name)\n",
        "    index = index + 1"
      ],
      "execution_count": 0,
      "outputs": []
    },
    {
      "cell_type": "code",
      "metadata": {
        "id": "ixbao5_yXca5",
        "colab_type": "code",
        "colab": {
          "base_uri": "https://localhost:8080/",
          "height": 35
        },
        "outputId": "3bcd8165-b1b1-4440-d79f-8aba8021ee54"
      },
      "source": [
        "sum=0\n",
        "\n",
        "for x in range(1,101):\n",
        "  sum +=x\n",
        "  \n",
        "print(sum)"
      ],
      "execution_count": 19,
      "outputs": [
        {
          "output_type": "stream",
          "text": [
            "5050\n"
          ],
          "name": "stdout"
        }
      ]
    },
    {
      "cell_type": "code",
      "metadata": {
        "id": "Zu72lBvCXjOa",
        "colab_type": "code",
        "colab": {
          "base_uri": "https://localhost:8080/",
          "height": 35
        },
        "outputId": "23d72d0b-522b-4229-b174-669d1aa6e900"
      },
      "source": [
        "sum=0\n",
        "\n",
        "for x in range(1,101,2):\n",
        "  sum +=x\n",
        "  \n",
        "print(sum)"
      ],
      "execution_count": 20,
      "outputs": [
        {
          "output_type": "stream",
          "text": [
            "2500\n"
          ],
          "name": "stdout"
        }
      ]
    },
    {
      "cell_type": "code",
      "metadata": {
        "id": "8SDmL7vgXtgq",
        "colab_type": "code",
        "colab": {
          "base_uri": "https://localhost:8080/",
          "height": 55
        },
        "outputId": "756ee70b-8271-4324-ea98-9c5f6f9395f3"
      },
      "source": [
        "total=1\n",
        "\n",
        "for x in range(1,101,2):\n",
        "  total *=x\n",
        "  \n",
        "print(total)"
      ],
      "execution_count": 21,
      "outputs": [
        {
          "output_type": "stream",
          "text": [
            "2725392139750729502980713245400918633290796330545803413734328823443106201171875\n"
          ],
          "name": "stdout"
        }
      ]
    },
    {
      "cell_type": "code",
      "metadata": {
        "id": "QZ_s95C6Xwhy",
        "colab_type": "code",
        "colab": {
          "base_uri": "https://localhost:8080/",
          "height": 35
        },
        "outputId": "00a7b237-3175-4593-f5c1-4083b9dbd7fc"
      },
      "source": [
        "sum = 0\n",
        "x=1\n",
        "\n",
        "while x < 101:\n",
        "  sum +=x\n",
        "  x = x+1\n",
        "  # x += 1\n",
        "  \n",
        "print(sum)"
      ],
      "execution_count": 22,
      "outputs": [
        {
          "output_type": "stream",
          "text": [
            "5050\n"
          ],
          "name": "stdout"
        }
      ]
    },
    {
      "cell_type": "code",
      "metadata": {
        "id": "emcWhAUzYdGy",
        "colab_type": "code",
        "colab": {
          "base_uri": "https://localhost:8080/",
          "height": 35
        },
        "outputId": "ab570834-bff7-40f4-8796-c705bbb69434"
      },
      "source": [
        "sum = 0\n",
        "x=1\n",
        "\n",
        "while x < 101:\n",
        "  sum +=x\n",
        "  x = x+2\n",
        "  # x += 1\n",
        "  \n",
        "print(sum)"
      ],
      "execution_count": 24,
      "outputs": [
        {
          "output_type": "stream",
          "text": [
            "2500\n"
          ],
          "name": "stdout"
        }
      ]
    },
    {
      "cell_type": "code",
      "metadata": {
        "id": "QDV9N0ceY5-q",
        "colab_type": "code",
        "colab": {
          "base_uri": "https://localhost:8080/",
          "height": 55
        },
        "outputId": "f34c4d76-7426-4bc0-cf00-50b844e64e59"
      },
      "source": [
        "total = 1\n",
        "x=1\n",
        "\n",
        "while x < 101:\n",
        "  total *=x\n",
        "  x = x+2     # x += 2\n",
        "  \n",
        "print(total)"
      ],
      "execution_count": 25,
      "outputs": [
        {
          "output_type": "stream",
          "text": [
            "2725392139750729502980713245400918633290796330545803413734328823443106201171875\n"
          ],
          "name": "stdout"
        }
      ]
    }
  ]
}
